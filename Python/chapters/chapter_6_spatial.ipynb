{
 "metadata": {
  "name": "",
  "signature": "sha256:195913d41eee71a9bcdc7b84f2363c543c0602ae7d9d7bef8030788ff110327b"
 },
 "nbformat": 3,
 "nbformat_minor": 0,
 "worksheets": [
  {
   "cells": [
    {
     "cell_type": "markdown",
     "metadata": {},
     "source": [
      "Chris Holden (ceholden@gmail.com) - https://github.com/ceholden\n",
      "\n",
      "Chapter 6: The spatial dimension - filters and segmentation\n",
      "==========================================================="
     ]
    },
    {
     "cell_type": "markdown",
     "metadata": {},
     "source": [
      "## TODO - write this chapter!"
     ]
    }
   ],
   "metadata": {}
  }
 ]
}