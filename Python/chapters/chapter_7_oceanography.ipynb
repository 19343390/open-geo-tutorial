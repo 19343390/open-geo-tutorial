{
 "cells": [
  {
   "cell_type": "markdown",
   "metadata": {},
   "source": [
    "Patrick Gray (patrick.c.gray at duke) - https://github.com/patrickcgray\n",
    "\n",
    "Chapter 7: Oceanographic Remote Sensing and GIS\n",
    "==========================================================="
   ]
  },
  {
   "cell_type": "markdown",
   "metadata": {},
   "source": [
    "## TODO - write this chapter!\n",
    "\n",
    "Potential Topics:\n",
    "\n",
    "- Landsat / Sentinel-2 / MODIS / etc\n",
    "  - https://nbviewer.jupyter.org/github/HyperionAnalytics/PyDataNYC2014/blob/master/landsat8_bands.ipynb\n",
    "  - look at the one right after Hurricane florence\n",
    "    - compare the water quality in the outflows compared to normal ocean water\n",
    "    - https://meetingorganizer.copernicus.org/EGU2018/EGU2018-19808-2.pdf\n",
    "  - https://www.esa.int/Our_Activities/Observing_the_Earth/Copernicus/Sentinel-2/Water_bodies\n",
    "  - Water Bodies’ Mapping from Sentinel-2 Imagery with Modified Normalized Difference Water Index at 10-m Spatial Resolution Produced by Sharpening the SWIR Band\n",
    "- Download and visualize NetCDF files\n",
    "- assessing water quality before and after a storm\n",
    "- compare water basins in places with lots of hog farms before and after major rain\n",
    "- algal bloom prediction\n",
    "- https://nbviewer.jupyter.org/github/geohackweek/tutorial_contents/blob/master/vector/notebooks/geopandas_advanced.ipynb"
   ]
  },
  {
   "cell_type": "code",
   "execution_count": null,
   "metadata": {},
   "outputs": [],
   "source": []
  },
  {
   "cell_type": "code",
   "execution_count": null,
   "metadata": {},
   "outputs": [],
   "source": []
  }
 ],
 "metadata": {
  "kernelspec": {
   "display_name": "Python 3",
   "language": "python",
   "name": "python3"
  },
  "language_info": {
   "codemirror_mode": {
    "name": "ipython",
    "version": 3
   },
   "file_extension": ".py",
   "mimetype": "text/x-python",
   "name": "python",
   "nbconvert_exporter": "python",
   "pygments_lexer": "ipython3",
   "version": "3.6.7"
  }
 },
 "nbformat": 4,
 "nbformat_minor": 2
}
