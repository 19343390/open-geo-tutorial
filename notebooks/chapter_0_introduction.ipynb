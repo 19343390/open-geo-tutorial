{
 "cells": [
  {
   "cell_type": "markdown",
   "metadata": {},
   "source": [
    "Patrick Gray (patrick.c.gray at duke) - https://github.com/patrickcgray\n",
    "\n",
    "Introduction\n",
    "============\n",
    "\n",
    "Tutorial of basic remote sensing and GIS methodologies using the open source python geospatial ecosystem"
   ]
  },
  {
   "cell_type": "markdown",
   "metadata": {},
   "source": [
    "Modern Geospatial Workflow: redo this https://gist.github.com/jacquestardie/0d1c0cb413b3b9b06edf\n",
    "\n",
    "## Why Python?\n",
    "- Easy to learn\n",
    "    - Python is an interpreted, dynamically typed language with little boilerplate code required to begin doing useful things\n",
    "    - Test out your code in Python's interpreter (read-evaluate-print loop) before you put your code into a script\n",
    "    - Very readible and closer to human syntax than C/Java/R/MATLAB\n",
    "    \n",
    "- Python is an actual programming language with a large standard library\n",
    "    - tools for file manipulation, command line argument parsing, and web access and parsing already exist and are robust\n",
    "    - Python already widely used in other scientific communities and outside of science for web servers, desktop applications, and server management\n",
    "    \n",
    "- Scientific Python provides very well documented and easy to use interfaces to pre-existing numeric methods\n",
    "    - Linear alebgra, classification routines, regression methods, and more have been published for decades as Fortran or C codes\n",
    "    - Libraries such as SciPy, NumPy, and SciKits wrap and extend these pre-existing codes in an easy to use package\n",
    "    - Strong machine learning and deep learning packages like keras and scikit-learn\n",
    "    \n",
    "- Large community with innumerable examples on blogs, StackOverflow, Github, etc.\n",
    "\n",
    "- Develop Python plugins for QGIS\n",
    "\n",
    "- Script analyses in QGIS or ArcMap\n",
    "\n",
    "- Open-source!!!"
   ]
  },
  {
   "cell_type": "markdown",
   "metadata": {},
   "source": [
    "## Chapters\n",
    "1. [Exploring the rasterio package for image analysis](chapter_1_rasterio.ipynb)\n",
    "2. [Your first remote sensing vegetation index](chapter_2_indices.ipynb)\n",
    "3. [Plotting and visualizing your data with `matplotlib`](chapter_3_visualization.ipynb)\n",
    "4. [Importing and using vector data](chapter_4_vector.ipynb)\n",
    "5. [Classification of land cover](chapter_5_classification.ipynb)\n",
    "6. [The spatial dimension - filters and segmentation](chapter_6_spatial.ipynb)"
   ]
  },
  {
   "cell_type": "markdown",
   "metadata": {},
   "source": [
    "## Other resources\n",
    "There are many resources for doing remote sensing and GIS with Python on the web, but here are some of the better ones:\n",
    "- [Chris Garrard's course material from Utah State University](http://www.gis.usu.edu/~chrisg/python/2009/)\n",
    "- [planet lab's jupyter notebooks](https://github.com/planetlabs/notebooks/tree/master/jupyter-notebooks)\n",
    "- [Earth Observation data on Amazon AWS](https://aws.amazon.com/earth/)\n",
    "- [rasterio documentation](https://rasterio.readthedocs.io/en/latest/quickstart.html)\n",
    "- [almost comprehensive list of python geospatial tools](http://www.gdal.org/gdal_tutorial.html)"
   ]
  },
  {
   "cell_type": "markdown",
   "metadata": {},
   "source": [
    "#### Note on Python 2 vs Python 3\n",
    "\n",
    "This tutorial will try to target Python 3.5 and greater. To ensure you're using a compatible version of Python, you can run the following:\n",
    "\n",
    "    python --version\n",
    "    \n",
    "at the command line.\n",
    "\n",
    "Python 3 has many great new features (more informative stack traces, better unicode handling, `asyncio`, matrix algebra notation using `@`, and more) and is the future of the language. Unfortunately, some scientific packages (QGIS, for example) have not yet completed the transition away from Python 2. Unless you have good reason to use Python 2 (like if you're writing a QGIS plugin in Python), the general concensus is to recommend using Python 3."
   ]
  },
  {
   "cell_type": "code",
   "execution_count": null,
   "metadata": {},
   "outputs": [],
   "source": []
  }
 ],
 "metadata": {
  "kernelspec": {
   "display_name": "Python 3",
   "language": "python",
   "name": "python3"
  },
  "language_info": {
   "codemirror_mode": {
    "name": "ipython",
    "version": 3
   },
   "file_extension": ".py",
   "mimetype": "text/x-python",
   "name": "python",
   "nbconvert_exporter": "python",
   "pygments_lexer": "ipython3",
   "version": "3.6.7"
  }
 },
 "nbformat": 4,
 "nbformat_minor": 1
}
