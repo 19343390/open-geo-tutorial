{
 "cells": [
  {
   "cell_type": "markdown",
   "metadata": {},
   "source": [
    "Patrick Gray (patrick.c.gray at duke) - https://github.com/patrickcgray\n",
    "\n",
    "Chapter 6: Improved Classification and Land Cover Mapping\n",
    "==========================================================="
   ]
  },
  {
   "cell_type": "markdown",
   "metadata": {},
   "source": [
    "## TODO - write this chapter!\n",
    "\n",
    "Potential topics to include:\n",
    "\n",
    "- accuracy assessment\n",
    "- additional ML algorithms\n",
    "- additional bands, indices, and texture filters\n",
    "- segmentation (OBIA)\n",
    "- deep learning methods"
   ]
  },
  {
   "cell_type": "code",
   "execution_count": null,
   "metadata": {},
   "outputs": [],
   "source": []
  }
 ],
 "metadata": {
  "kernelspec": {
   "display_name": "Python 3",
   "language": "python",
   "name": "python3"
  },
  "language_info": {
   "codemirror_mode": {
    "name": "ipython",
    "version": 3
   },
   "file_extension": ".py",
   "mimetype": "text/x-python",
   "name": "python",
   "nbconvert_exporter": "python",
   "pygments_lexer": "ipython3",
   "version": "3.6.7"
  }
 },
 "nbformat": 4,
 "nbformat_minor": 1
}
