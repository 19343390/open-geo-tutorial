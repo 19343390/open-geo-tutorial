{
 "metadata": {
  "name": "",
  "signature": "sha256:6246d08e6e360ee90c2139f702e21ad0061a865ea579cc5f1728b9a58711f9f0"
 },
 "nbformat": 3,
 "nbformat_minor": 0,
 "worksheets": [
  {
   "cells": [
    {
     "cell_type": "markdown",
     "metadata": {},
     "source": [
      "Chris Holden (ceholden@gmail.com) - https://github.com/ceholden\n",
      "\n",
      "Chapter 6: Classification of land cover\n",
      "======================================="
     ]
    }
   ],
   "metadata": {}
  }
 ]
}