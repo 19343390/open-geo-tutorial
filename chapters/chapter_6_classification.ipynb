{
 "metadata": {
  "name": "",
  "signature": "sha256:92dc9d742085953c2025db75a8ad9ffeb17672489a3bd05fab5dc704eaf441f7"
 },
 "nbformat": 3,
 "nbformat_minor": 0,
 "worksheets": [
  {
   "cells": [
    {
     "cell_type": "markdown",
     "metadata": {},
     "source": [
      "Chapter 6: Classification of land cover\n",
      "======================================="
     ]
    }
   ],
   "metadata": {}
  }
 ]
}