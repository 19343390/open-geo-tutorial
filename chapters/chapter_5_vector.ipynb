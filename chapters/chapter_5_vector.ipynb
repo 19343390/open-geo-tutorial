{
 "metadata": {
  "name": "",
  "signature": "sha256:e2fc0699e046b38b396c70f98753cb4acd5f3668b24bb4c01c79914ebb5449b5"
 },
 "nbformat": 3,
 "nbformat_minor": 0,
 "worksheets": [
  {
   "cells": [
    {
     "cell_type": "markdown",
     "metadata": {},
     "source": [
      "Chris Holden (ceholden@gmail.com) - https://github.com/ceholden\n",
      "\n",
      "Chapter 5: Importing and using vector data -- the OGR library\n",
      "=================================================="
     ]
    }
   ],
   "metadata": {}
  }
 ]
}