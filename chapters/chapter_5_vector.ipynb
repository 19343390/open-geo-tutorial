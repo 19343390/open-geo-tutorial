{
 "metadata": {
  "name": "",
  "signature": "sha256:6d7a61a840cb2bc22b5c1247cdaeca06518531a33dcc4d14d3230198ae20997c"
 },
 "nbformat": 3,
 "nbformat_minor": 0,
 "worksheets": [
  {
   "cells": [
    {
     "cell_type": "markdown",
     "metadata": {},
     "source": [
      "Chris Holden (ceholden@gmail.com) - https://github.com/ceholden\n",
      "\n",
      "Chapter 5: Importing and using vector data -- the OGR library\n",
      "=================================================="
     ]
    },
    {
     "cell_type": "markdown",
     "metadata": {},
     "source": [
      "## Introduction\n",
      "\n",
      "The *OGR* library is a companion library to *GDAL* that handles vector data capabilities, including information queryies, file conversions, rasterization of polygon features, polygonization of raster features, and much more. It handles popular formats including the *ESRI Shapefile*, *Keyhole Markup Language*, *PostGIS*, and *SpatiaLite*. For more information on how *OGR* came about and how it relates to *GDAL*, see here: http://trac.osgeo.org/gdal/wiki/FAQGeneral#WhatisthisOGRstuff.\n",
      "\n",
      "The authors of *GDAL*/*OGR* provide a tutorial for the *OGR* library [here](http://www.gdal.org/ogr_apitut.html).\n",
      "\n",
      "> Note: As of 08/12/2014, the API used in this tutorial seems to be ahead of the current 1.11.0 release. Specifically, they demonstrate how to open a vector file using `gdal.OpenEx`, which is a change designed to unify the *GDAL* and *OGR* sections of the library.\n",
      "    \n",
      "> A clone of the *GDAL 1.9* API tutorial can be found [here](http://www.compsci.wm.edu/SciClone/documentation/software/geo/gdal-1.9.0/html/ogr/ogr_apitut.html)\n",
      "\n",
      "In this chapter we will use an *ESRI Shapefile* that contains training data I collected in QGIS for the example image we've been working on.\n",
      "\n",
      "## Opening an *ESRI Shapefile*\n",
      "\n",
      "Just like *GDAL*, *OGR* abstracts the file formats so that we can use the same code for any format. It employs the same concept of a *dataset* object which we can gather information from:"
     ]
    },
    {
     "cell_type": "code",
     "collapsed": false,
     "input": [
      "# Import Python 3 print function\n",
      "from __future__ import print_function\n",
      "\n",
      "# Import OGR - \n",
      "from osgeo import ogr\n",
      "\n",
      "# Open the dataset from the file\n",
      "dataset = ogr.Open('../example/training_data.shp')\n",
      "# Make sure the dataset exists -- it would be None if we couldn't open it\n",
      "if not dataset:\n",
      "    print('Error: could not open dataset')"
     ],
     "language": "python",
     "metadata": {},
     "outputs": [],
     "prompt_number": 1
    },
    {
     "cell_type": "markdown",
     "metadata": {},
     "source": [
      "With our Shapefile read in, we can look at some of its properties:"
     ]
    },
    {
     "cell_type": "code",
     "collapsed": false,
     "input": [
      "### Let's get the driver from this file\n",
      "driver = dataset.GetDriver()\n",
      "print('Dataset driver is: {n}\\n'.format(n=driver.name))\n",
      "\n",
      "### How many layers are contained in this Shapefile?\n",
      "layer_count = dataset.GetLayerCount()\n",
      "print('The shapefile has {n} layer(s)\\n'.format(n=layer_count))\n",
      "\n",
      "### What is the name of the 1 layer?\n",
      "layer = dataset.GetLayerByIndex(0)\n",
      "print('The layer is named: {n}\\n'.format(n=layer.GetName()))\n",
      "\n",
      "### What is the layer's geometry? is it a point? a polyline? a polygon?\n",
      "# First read in the geometry - but this is the enumerated type's value\n",
      "geometry = layer.GetGeomType()\n",
      "\n",
      "# So we need to translate it to the name of the enum\n",
      "geometry_name = ogr.GeometryTypeToName(geometry)\n",
      "print(\"The layer's geometry is: {geom}\\n\".format(geom=geometry_name))\n",
      "\n",
      "### What is the layer's projection?\n",
      "# Get the spatial reference\n",
      "spatial_ref = layer.GetSpatialRef()\n",
      "\n",
      "# Export this spatial reference to something we can read... like the Proj4\n",
      "proj4 = spatial_ref.ExportToProj4()\n",
      "print('Layer projection is: {proj4}\\n'.format(proj4=proj4))\n",
      "\n",
      "### How many features are in the layer?\n",
      "feature_count = layer.GetFeatureCount()\n",
      "print('Layer has {n} features\\n'.format(n=feature_count))\n",
      "\n",
      "### How many fields are in the shapefile, and what are their names?\n",
      "# First we need to capture the layer definition\n",
      "defn = layer.GetLayerDefn()\n",
      "\n",
      "# How many fields\n",
      "field_count = defn.GetFieldCount()\n",
      "print('Layer has {n} fields'.format(n=field_count))\n",
      "\n",
      "# What are their names?\n",
      "print('Their names are: ')\n",
      "for i in range(field_count):\n",
      "    field_defn = defn.GetFieldDefn(i)\n",
      "    print('\\t{name} - {datatype}'.format(name=field_defn.GetName(),\n",
      "                                         datatype=field_defn.GetTypeName()))"
     ],
     "language": "python",
     "metadata": {},
     "outputs": [
      {
       "output_type": "stream",
       "stream": "stdout",
       "text": [
        "Dataset driver is: ESRI Shapefile\n",
        "\n",
        "The shapefile has 1 layer(s)\n",
        "\n",
        "The layer is named: training_data\n",
        "\n",
        "The layer's geometry is: Polygon\n",
        "\n",
        "Layer projection is: +proj=utm +zone=15 +datum=WGS84 +units=m +no_defs \n",
        "\n",
        "Layer has 30 features\n",
        "\n",
        "Layer has 2 fields\n",
        "Their names are: \n",
        "\tid - Integer\n",
        "\tclass - String\n"
       ]
      }
     ],
     "prompt_number": 2
    },
    {
     "cell_type": "markdown",
     "metadata": {},
     "source": [
      "The shapefile is already projected in the same projection that our example raster image is in, so we won't be needing to reproject it. You *could*, however, do so using either the [ogr2ogr](http://www.gdal.org/ogr2ogr.html) command line application, or by [reprojecting the shapefile in Python](http://pcjericks.github.io/py-gdalogr-cookbook/projection.html#reproject-a-layer).\n",
      "\n",
      "## Tie-in with our Raster dataset\n",
      "\n",
      "The training data we just opened contains two fields:\n",
      "+ an ID field (Integer datatype)\n",
      "+ a class field (String datatype)\n",
      "\n",
      "Combined with the innate location information of polygons in a Shapefile, fields resemble all that we need to use for pairing labels (i.e., the integer ID and the string description) with the information in our raster.\n",
      "\n",
      "However, in order to pair up our vector data with our raster pixels, we will need a way of co-aligning the datasets in space. \n",
      "\n",
      "One (complicated) way of doing this would be to manually loop through each polygon in our vector layer and determine which pixels from our raster are contained within. This approach is exactly what GIS softwares (e.g., ENVI, ArcGIS, QGIS) do when doing pairing rasters with vectors, like when doing zonal statistics.\n",
      "\n",
      "Another less complicated way would be to use the concept of a Region of Interest (ROI) image where each non-zero pixel value in our ROI image corresponds to a raster representation of a polygon from our vector layer. In the example of our training data, most of the values would be 0 in the rasterized representation because our training data samples are small compared to the entire study area. Because we have assigned an integer ID field to each polygon, we could use these integers to store information about which polygons belong to which pixels. In this case, I have assigned values ranging from 1 - 5 for the classes:\n",
      "\n",
      "+ 1 - forest\n",
      "+ 2 - water\n",
      "+ 3 - herbaceous\n",
      "+ 4 - barren\n",
      "+ 5 - urban\n",
      "\n",
      "To accomplish this rasterization of a vector layer, we could use the GDAL command line utility [gdal_rasterize](http://www.gdal.org/gdal_rasterize.html), but we can stick to pure Python by using the GDAL function [gdal.RasterizeLayer](http://gdal.org/gdal__alg_8h.html#adfe5e5d287d6c184aab03acbfa567cb1)."
     ]
    },
    {
     "cell_type": "code",
     "collapsed": false,
     "input": [
      "layer = dataset.GetLayer()\n",
      "layer."
     ],
     "language": "python",
     "metadata": {},
     "outputs": [],
     "prompt_number": 3
    },
    {
     "cell_type": "code",
     "collapsed": false,
     "input": [
      "# Import GDAL\n",
      "from osgeo import gdal\n",
      "\n",
      "# First we will open our raster image, to understand how we will want to rasterize our vector\n",
      "raster_ds = gdal.Open('../example/LE70220491999322EDC01_stack.gtif', gdal.GA_ReadOnly)\n",
      "\n",
      "# Fetch number of rows and columns\n",
      "ncol = raster_ds.RasterXSize\n",
      "nrow = raster_ds.RasterYSize\n",
      "\n",
      "# Fetch projection and extent\n",
      "proj = raster_ds.GetProjection()\n",
      "ext = raster_ds.GetGeoTransform()\n",
      "\n",
      "# OK - let's create the raster dataset... this time just in memory\n",
      "memory_driver = gdal.GetDriverByName('GTiff')\n",
      "out_raster_ds = memory_driver.Create('../test.gtif', ncol, nrow, 1, gdal.GDT_Byte)\n",
      "\n",
      "# Use gdal.RasterizeLayer to create the raster representation of our shapefile\n",
      "gdal.RasterizeLayer(out_raster_ds, [1], layer, burn_values=[1])"
     ],
     "language": "python",
     "metadata": {},
     "outputs": []
    }
   ],
   "metadata": {}
  }
 ]
}