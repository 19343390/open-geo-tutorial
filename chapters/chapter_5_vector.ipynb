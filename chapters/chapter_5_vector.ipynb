{
 "metadata": {
  "name": "",
  "signature": "sha256:afe6287fa778c3a03eaf881f16b5f345e63896c940d90e5f921e0a960e61236b"
 },
 "nbformat": 3,
 "nbformat_minor": 0,
 "worksheets": [
  {
   "cells": [
    {
     "cell_type": "markdown",
     "metadata": {},
     "source": [
      "Chapter 5: Importing and using vector data -- the OGR library\n",
      "=================================================="
     ]
    }
   ],
   "metadata": {}
  }
 ]
}