{
 "metadata": {
  "name": "",
  "signature": "sha256:3feae0b98469d2882625c85420dd32c824823bf87eab9d83d9969e6519172054"
 },
 "nbformat": 3,
 "nbformat_minor": 0,
 "worksheets": [
  {
   "cells": [
    {
     "cell_type": "markdown",
     "metadata": {},
     "source": [
      "Chapter 2: Exploring the GDALDataset class\n",
      "=========================================="
     ]
    }
   ],
   "metadata": {}
  }
 ]
}