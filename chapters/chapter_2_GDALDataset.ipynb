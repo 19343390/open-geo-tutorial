{
 "metadata": {
  "name": "",
  "signature": "sha256:9f437ba0575957006f3e91aeb0c2ff73d97f3089e80be3aa3e1baae187201c2d"
 },
 "nbformat": 3,
 "nbformat_minor": 0,
 "worksheets": [
  {
   "cells": [
    {
     "cell_type": "markdown",
     "metadata": {},
     "source": [
      "Chris Holden (ceholden@gmail.com) - https://github.com/ceholden\n",
      "\n",
      "\n",
      "Chapter 2: Exploring the GDALDataset class\n",
      "=========================================="
     ]
    },
    {
     "cell_type": "markdown",
     "metadata": {},
     "source": [
      "## Introduction\n",
      "One of the most fundamental components of the GDAL raster library is the class object that represents a raster image dataset. That class is called the `GDALDataset`. You can find the Application Programming Interface ([API](http://en.wikipedia.org/wiki/Application_programming_interface)) references here: \n",
      "\n",
      "- [C API](http://gdal.org/python/osgeo.gdal.Dataset-class.html)\n",
      "- [Python API](http://gdal.org/python/osgeo.gdal.Dataset-class.html)\n",
      "\n",
      "You will find on these API web pages references to class methods (remember: a method is just a function that belongs to a class) suhc as:\n",
      "\n",
      "- GetDriver\n",
      "- GetRasterBand\n",
      "- GetGeoTransform\n",
      "- GetProjection\n",
      "- GetSubDatasets\n",
      "\n",
      "These class methods are so called \"getter\" methods that allow you to access class attributes (remember: class attributes are just variables that belong to the class). When you call the class method, `GetDriver`, the GDAL dataset will return the image format driver (e.g., ENVI driver, GeoTIFF driver, HDF driver) responsibile for handling the input and output operations for this raster file format. Similarly, the `GetGeoTransform` method will the transformation that can be used to translate between pixel coordinates and projection coordinates.\n",
      "\n",
      "> Note: the \"getter\" and \"setter\" class methods for accessing and settting class properties is not \"Pythonic\" - these methods exist because the API was originally written for C++ where such methods are normal.\n",
      "    \n",
      "Another suite of class methods allow you to set class attributes. These include:\n",
      "\n",
      "- SetGeoTransform\n",
      "- SetProjection\n",
      "\n",
      "which allow you to modify the geographic projection and location of the image."
     ]
    },
    {
     "cell_type": "markdown",
     "metadata": {},
     "source": [
      "## Module import in Python\n",
      "\n",
      "Now that we've seen some of how the GDALDataset object encapsulates many of the ideas relevant to the concept of a raster image, let's see how we can implement these ideas in Python.\n",
      "\n",
      "Before we can get started, we need to tell Python that we will be using functions, classes, and variables from the GDAL Python package. The technical wording for this is that we need to import the GDAL module into our [namespace](!http://en.wikipedia.org/wiki/Namespace) (see Python's documentation on the `module` system [here](!https://docs.python.org/2/tutorial/modules.html)).\n",
      "\n",
      "We will do this using some `import` statements:"
     ]
    },
    {
     "cell_type": "code",
     "collapsed": false,
     "input": [
      "# Import the Python 3 print function\n",
      "from __future__ import print_function\n",
      "\n",
      "# Import the \"gdal\" submodule from within the \"osgeo\" module\n",
      "from osgeo import gdal\n",
      "\n",
      "# We can check which version we're running by printing the \"__version__\" variable\n",
      "print(\"GDAL's version is: \" + gdal.__version__)\n",
      "print(gdal)"
     ],
     "language": "python",
     "metadata": {},
     "outputs": [
      {
       "output_type": "stream",
       "stream": "stdout",
       "text": [
        "GDAL's version is: 1.10.1\n",
        "<module 'osgeo.gdal' from '/usr/lib/python2.7/dist-packages/osgeo/gdal.pyc'>\n"
       ]
      }
     ],
     "prompt_number": 9
    },
    {
     "cell_type": "markdown",
     "metadata": {},
     "source": [
      "Once we import the `gdal` submodule, Python will know where to look on our system for the code that implements the GDAL API. When we want to access classes, variables, or functions within the `gdal` submodule, we will need to reference the full path, which includes the `gdal` reference:"
     ]
    },
    {
     "cell_type": "code",
     "collapsed": false,
     "input": [
      "# Let's print out the value of the GDAL Byte data type (GDT_Byte)\n",
      "#     the number printed out is how GDAL keeps track of the various data types\n",
      "#     this variable, which has a fixed numeric value, is what's called an enumerated type, or enum\n",
      "\n",
      "# Works\n",
      "print(gdal.GDT_Byte)\n",
      "# Doesn't work\n",
      "print(GDT_Byte)"
     ],
     "language": "python",
     "metadata": {},
     "outputs": [
      {
       "output_type": "stream",
       "stream": "stdout",
       "text": [
        "1\n"
       ]
      },
      {
       "ename": "NameError",
       "evalue": "name 'GDT_Byte' is not defined",
       "output_type": "pyerr",
       "traceback": [
        "\u001b[1;31m---------------------------------------------------------------------------\u001b[0m\n\u001b[1;31mNameError\u001b[0m                                 Traceback (most recent call last)",
        "\u001b[1;32m<ipython-input-10-cb75e61c602f>\u001b[0m in \u001b[0;36m<module>\u001b[1;34m()\u001b[0m\n\u001b[0;32m      6\u001b[0m \u001b[1;32mprint\u001b[0m\u001b[1;33m(\u001b[0m\u001b[0mgdal\u001b[0m\u001b[1;33m.\u001b[0m\u001b[0mGDT_Byte\u001b[0m\u001b[1;33m)\u001b[0m\u001b[1;33m\u001b[0m\u001b[0m\n\u001b[0;32m      7\u001b[0m \u001b[1;31m# Doesn't work\u001b[0m\u001b[1;33m\u001b[0m\u001b[1;33m\u001b[0m\u001b[0m\n\u001b[1;32m----> 8\u001b[1;33m \u001b[1;32mprint\u001b[0m\u001b[1;33m(\u001b[0m\u001b[0mGDT_Byte\u001b[0m\u001b[1;33m)\u001b[0m\u001b[1;33m\u001b[0m\u001b[0m\n\u001b[0m",
        "\u001b[1;31mNameError\u001b[0m: name 'GDT_Byte' is not defined"
       ]
      }
     ],
     "prompt_number": 10
    },
    {
     "cell_type": "markdown",
     "metadata": {},
     "source": [
      "The datatype `GDT_Byte` doesn't exist in the *global* namespace. We need to tell Python where to look for it to find it.\n",
      "\n",
      "With some basic explanation of Python's namespace setup and how it applies to GDAL out of the way, let's get into some examples:\n",
      "\n",
      "### Examples\n",
      "#### Open an image\n",
      "When we open an image in GDAL we create a GDALDataset object. As the name would suggest, we can open an image with the \"Open\" function within `gdal`.\n",
      "\n",
      "We will use an example image provided in this repository for this chapter. This image is a subset of a Landsat 7 image containing the 7 bands on this sensor rearranged in order of wavelength (e.g., Landsat 7's second SWIR channel comes before thermal channel in our stack). The last band in this image is a cloud and cloud shadow mask from Fmask."
     ]
    },
    {
     "cell_type": "code",
     "collapsed": false,
     "input": [
      "# Open a GDAL dataset\n",
      "dataset = gdal.Open('../example/LE70220491999322EDC01_stack.gtif', gdal.GA_ReadOnly)\n",
      "\n",
      "print(dataset)"
     ],
     "language": "python",
     "metadata": {},
     "outputs": [
      {
       "output_type": "stream",
       "stream": "stdout",
       "text": [
        "<osgeo.gdal.Dataset; proxy of <Swig Object of type 'GDALDatasetShadow *' at 0x7f452f141e40> >\n"
       ]
      }
     ],
     "prompt_number": 11
    },
    {
     "cell_type": "markdown",
     "metadata": {},
     "source": [
      "Now that we have this dataset open, let's explore some of its capabilities.\n",
      "\n",
      "#### Image attributes"
     ]
    },
    {
     "cell_type": "code",
     "collapsed": false,
     "input": [
      "# How many bands does this image have?\n",
      "num_bands = dataset.RasterCount\n",
      "print('Number of bands in image: {n}\\n'.format(n=num_bands))\n",
      "\n",
      "# How many rows and columns?\n",
      "rows = dataset.RasterYSize\n",
      "cols = dataset.RasterXSize\n",
      "print('Image size is: {r} rows x {c} columns\\n'.format(r=rows, c=cols))\n",
      "\n",
      "# Does the raster have a description or metadata?\n",
      "desc = dataset.GetDescription()\n",
      "metadata = dataset.GetMetadata()\n",
      "\n",
      "print('Raster description: {desc}'.format(desc=desc))\n",
      "print('Raster metadata:')\n",
      "print(metadata)\n",
      "print('\\n')\n",
      "\n",
      "# What driver was used to open the raster?\n",
      "driver = dataset.GetDriver()\n",
      "print('Raster driver: {d}\\n'.format(d=driver.ShortName))\n",
      "\n",
      "# What is the raster's projection?\n",
      "proj = dataset.GetProjection()\n",
      "print('Image projection:')\n",
      "print(proj + '\\n')\n",
      "\n",
      "# What is the raster's \"geo-transform\"\n",
      "gt = dataset.GetGeoTransform()\n",
      "print('Image geo-transform: {gt}\\n'.format(gt=gt))"
     ],
     "language": "python",
     "metadata": {},
     "outputs": [
      {
       "output_type": "stream",
       "stream": "stdout",
       "text": [
        "Number of bands in image: 8\n",
        "\n",
        "Image size is: 250 rows x 250 columns\n",
        "\n",
        "Raster description: ../example/LE70220491999322EDC01_stack.gtif\n",
        "Raster metadata:\n",
        "{'AREA_OR_POINT': 'Area', 'Band_6': 'band 7 reflectance', 'Band_7': 'band 6 temperature', 'Band_4': 'band 4 reflectance', 'Band_5': 'band 5 reflectance', 'Band_2': 'band 2 reflectance', 'Band_3': 'band 3 reflectance', 'Band_1': 'band 1 reflectance', 'Band_8': 'Band 8'}\n",
        "\n",
        "\n",
        "Raster driver: GTiff\n",
        "\n",
        "Image projection:\n",
        "PROJCS[\"WGS 84 / UTM zone 15N\",GEOGCS[\"WGS 84\",DATUM[\"WGS_1984\",SPHEROID[\"WGS 84\",6378137,298.257223563,AUTHORITY[\"EPSG\",\"7030\"]],AUTHORITY[\"EPSG\",\"6326\"]],PRIMEM[\"Greenwich\",0],UNIT[\"degree\",0.0174532925199433],AUTHORITY[\"EPSG\",\"4326\"]],PROJECTION[\"Transverse_Mercator\"],PARAMETER[\"latitude_of_origin\",0],PARAMETER[\"central_meridian\",-93],PARAMETER[\"scale_factor\",0.9996],PARAMETER[\"false_easting\",500000],PARAMETER[\"false_northing\",0],UNIT[\"metre\",1,AUTHORITY[\"EPSG\",\"9001\"]],AUTHORITY[\"EPSG\",\"32615\"]]\n",
        "\n",
        "Image geo-transform: (462405.0, 30.0, 0.0, 1741815.0, 0.0, -30.0)\n",
        "\n"
       ]
      }
     ],
     "prompt_number": 12
    },
    {
     "cell_type": "markdown",
     "metadata": {},
     "source": [
      "The first few pieces of information we obtained are fairly straightforward - the raster size, the number of bands, a description, some metadata, and the raster's file format.\n",
      "\n",
      "The image's projection is formatted in what's known as \"Well Known Text\". For more information on specific projections and for format conversions among projection description formats (e.g., proj4 string, WKT, ESRI WKT, JSON, etc.) see [Spatial Reference](http://www.spatialreference.org).\n",
      "\n",
      "The last piece of information we accessed is something called a \"geotransform\". This set of 6 numbers provides all the information required to and from transform pixel and projected coordinates. In this example, the first number (462405) and the fourth number (1741815) are the top left of the upper left pixel of the raster. The pixel size in x and y dimensions of the raster is listed as the second (30) and the sixth (-30) numbers. Since our raster is north up oriented, the third and fifth numbers are 0. For more information on the GDAL data model, [visit this web page](http://www.gdal.org/gdal_datamodel.html)."
     ]
    },
    {
     "cell_type": "markdown",
     "metadata": {},
     "source": [
      "#### Image raster bands\n",
      "\n",
      "The GDALDataset object we created contains a lot of useful information but it is not directly used to read in the raster image. Instead we will need to access each of the raster's bands individually using the method `GetRasterBand`:"
     ]
    },
    {
     "cell_type": "code",
     "collapsed": false,
     "input": [
      "# Open the blue band in our image\n",
      "blue = dataset.GetRasterBand(1)\n",
      "\n",
      "print(blue)"
     ],
     "language": "python",
     "metadata": {},
     "outputs": [
      {
       "output_type": "stream",
       "stream": "stdout",
       "text": [
        "<osgeo.gdal.Band; proxy of <Swig Object of type 'GDALRasterBandShadow *' at 0x7f452f149180> >\n"
       ]
      }
     ],
     "prompt_number": 13
    },
    {
     "cell_type": "markdown",
     "metadata": {},
     "source": [
      "Following our guide of the GDALDataset, let's explore some of the attributes and methods of the GDALRasterBand:"
     ]
    },
    {
     "cell_type": "code",
     "collapsed": false,
     "input": [
      "# What is the band's datatype?\n",
      "datatype = blue.DataType\n",
      "print('Band datatype: {dt}'.format(dt=blue.DataType))\n",
      "\n",
      "# If you recall from our discussion of enumerated types, this \"3\" we printed has a more useful definition for us to use\n",
      "datatype_name = gdal.GetDataTypeName(blue.DataType)\n",
      "print('Band datatype: {dt}'.format(dt=datatype_name))\n",
      "\n",
      "# We can also ask how much space does this datatype take up\n",
      "bytes = gdal.GetDataTypeSize(blue.DataType)\n",
      "print('Band datatype size: {b} bytes\\n'.format(b=bytes))\n",
      "\n",
      "# How about some band statistics?\n",
      "band_max, band_min, band_mean, band_stddev = blue.GetStatistics(0, 1)\n",
      "print('Band range: {minimum} - {maximum}'.format(maximum=band_max,\n",
      "                                                 minimum=band_min))\n",
      "print('Band mean, stddev: {m}, {s}\\n'.format(m=band_mean, s=band_stddev))\n"
     ],
     "language": "python",
     "metadata": {},
     "outputs": [
      {
       "output_type": "stream",
       "stream": "stdout",
       "text": [
        "Band datatype: 3\n",
        "Band datatype: Int16\n",
        "Band datatype size: 16 bytes\n",
        "\n",
        "Band range: 1810.0 - 198.0\n",
        "Band mean, stddev: 439.015984, 139.716828766\n",
        "\n"
       ]
      }
     ],
     "prompt_number": 14
    },
    {
     "cell_type": "markdown",
     "metadata": {},
     "source": [
      "Note that we didn't need to read the image into Python's memory to calculate these statistics - GDAL did all of this for us.\n",
      "\n",
      "For most applications, however, we will need to use GDAL to read our raster bands into memory. When we load our raster band into memory we will read it into a [NumPy](http://www.numpy.org/) 2 dimensional array. NumPy is, [\"the fundamental package for scientific computing with Python\"](http://www.numpy.org/), because it allows us to represent our data in a very memory efficient way.\n",
      "\n",
      "NumPy arrays are the cornerstone or building block of the rest of the Scientific Python suite of software. Get familiar with them:\n",
      "\n",
      "+ [NumPy for MATLAB users](http://wiki.scipy.org/NumPy_for_Matlab_Users)\n",
      "+ [NumPy tutorial](http://wiki.scipy.org/Tentative_NumPy_Tutorial)\n",
      "+ [NumPy API reference manual](http://docs.scipy.org/doc/numpy/reference/)\n",
      "\n",
      "In order to read our band into one of these wonderful `np.array` objects, we will use the `ReadAsArray` method from our `GDALRasterBand` object:"
     ]
    },
    {
     "cell_type": "code",
     "collapsed": false,
     "input": [
      "help(blue.ReadAsArray)"
     ],
     "language": "python",
     "metadata": {},
     "outputs": [
      {
       "output_type": "stream",
       "stream": "stdout",
       "text": [
        "Help on method ReadAsArray in module osgeo.gdal:\n",
        "\n",
        "ReadAsArray(self, xoff=0, yoff=0, win_xsize=None, win_ysize=None, buf_xsize=None, buf_ysize=None, buf_obj=None) method of osgeo.gdal.Band instance\n",
        "\n"
       ]
      }
     ],
     "prompt_number": 24
    },
    {
     "cell_type": "markdown",
     "metadata": {},
     "source": [
      "The method `ReadAsArray` takes arguments that allow us to specify a subset of the raster band image using X and Y offsets and sizes. Remember this ability when you want to process large images or are working with a limited amount of memory. In these circumstances, you will run out of memory if you read the entire dataset in at once. Instead, read in a block of some number of columns and rows at one time, perform your computation and store your output, and then chunk through the rest of the image.\n",
      "\n",
      "For now, we'll just read in the entire image:"
     ]
    },
    {
     "cell_type": "code",
     "collapsed": false,
     "input": [
      "blue_data = blue.ReadAsArray()\n",
      "\n",
      "print(blue_data)\n",
      "print()\n",
      "print('Blue band mean is: {m}'.format(m=blue_data.mean()))\n",
      "print('Size is: {sz}'.format(sz=blue_data.shape))"
     ],
     "language": "python",
     "metadata": {},
     "outputs": [
      {
       "output_type": "stream",
       "stream": "stdout",
       "text": [
        "[[569 526 569 ..., 311 289 311]\n",
        " [568 589 568 ..., 267 332 332]\n",
        " [546 525 589 ..., 311 311 311]\n",
        " ..., \n",
        " [499 543 478 ..., 306 349 372]\n",
        " [520 520 543 ..., 328 372 393]\n",
        " [543 564 543 ..., 393 414 436]]\n",
        "\n",
        "Blue band mean is: 439.015984\n",
        "Size is: (250, 250)\n"
       ]
      }
     ],
     "prompt_number": 28
    },
    {
     "cell_type": "markdown",
     "metadata": {},
     "source": [
      "With our data read into a NumPy array, we can print it to console and even perform statistics on it. In addition to helping us store massive amounts of data efficiently, NumPy will help us with some basic linear algebra, numerical operations, and summary statistics.\n",
      "\n",
      "Let's say we want to read all of our bands into one 3 dimensional (nrow x ncol x nband) dataset. We will begin by initializing a 3 dimensional array. Next, we will loop over all bands in our raster image dataset and read them into our newly allocated 3 dimensional array:"
     ]
    },
    {
     "cell_type": "code",
     "collapsed": false,
     "input": [
      "# Initialize a 3d array -- use the size properties of our image for portability!\n",
      "image = np.zeros((dataset.RasterYSize, dataset.RasterXSize, dataset.RasterCount))\n",
      "\n",
      "# Loop over all bands in dataset\n",
      "for b in xrange(dataset.RasterCount):\n",
      "    # Remember, GDAL index is on 1, but Python is on 0 -- so we add 1 for our GDAL calls\n",
      "    band = dataset.GetRasterBand(b + 1)\n",
      "    \n",
      "    # Read in the band's data into the third dimension of our array\n",
      "    image[:, :, b] = band.ReadAsArray()\n",
      "\n",
      "print(image)\n",
      "print(image.dtype)"
     ],
     "language": "python",
     "metadata": {},
     "outputs": [
      {
       "output_type": "stream",
       "stream": "stdout",
       "text": [
        "[[[  569.   886.   758. ...,   988.  2686.     0.]\n",
        "  [  526.   886.   758. ...,   988.  2686.     0.]\n",
        "  [  569.   798.   776. ...,   961.  2686.     0.]\n",
        "  ..., \n",
        "  [  311.   452.   356. ...,   780.  2487.     0.]\n",
        "  [  289.   452.   297. ...,   647.  2487.     0.]\n",
        "  [  311.   430.   337. ...,   674.  2436.     0.]]\n",
        "\n",
        " [[  568.   886.   815. ...,  1014.  2686.     0.]\n",
        "  [  589.   929.   853. ...,  1014.  2686.     0.]\n",
        "  [  568.   907.   910. ...,  1014.  2686.     0.]\n",
        "  ..., \n",
        "  [  267.   430.   318. ...,   674.  2487.     0.]\n",
        "  [  332.   452.   337. ...,   594.  2487.     0.]\n",
        "  [  332.   452.   395. ...,   727.  2487.     0.]]\n",
        "\n",
        " [[  546.   864.   834. ...,   988.  2637.     0.]\n",
        "  [  525.   886.   834. ...,   988.  2637.     0.]\n",
        "  [  589.   928.   891. ...,   988.  2637.     0.]\n",
        "  ..., \n",
        "  [  311.   452.   356. ...,   727.  2487.     0.]\n",
        "  [  311.   475.   395. ...,   727.  2487.     0.]\n",
        "  [  311.   475.   356. ...,   753.  2487.     0.]]\n",
        "\n",
        " ..., \n",
        " [[  499.   851.   766. ...,  1124.  2785.     0.]\n",
        "  [  543.   829.   747. ...,  1387.  2735.     0.]\n",
        "  [  478.   829.   766. ...,  1414.  2735.     0.]\n",
        "  ..., \n",
        "  [  306.   473.   336. ...,   753.  2537.     0.]\n",
        "  [  349.   494.   375. ...,   753.  2537.     0.]\n",
        "  [  372.   584.   454. ...,   780.  2587.     0.]]\n",
        "\n",
        " [[  520.   829.   766. ...,  1283.  2785.     0.]\n",
        "  [  520.   829.   786. ...,  1387.  2785.     0.]\n",
        "  [  543.   829.   805. ...,  1361.  2785.     0.]\n",
        "  ..., \n",
        "  [  328.   473.   336. ...,   568.  2587.     0.]\n",
        "  [  372.   628.   433. ...,  1045.  2587.     0.]\n",
        "  [  393.   628.   512. ...,  1018.  2587.     0.]]\n",
        "\n",
        " [[  543.   829.   825. ...,  1440.  2785.     0.]\n",
        "  [  564.   851.   863. ...,  1467.  2785.     0.]\n",
        "  [  543.   829.   766. ...,  1387.  2785.     0.]\n",
        "  ..., \n",
        "  [  393.   607.   551. ...,  1230.  2686.     0.]\n",
        "  [  414.   673.   572. ...,  1440.  2686.     0.]\n",
        "  [  436.   628.   493. ...,  1045.  2637.     0.]]]\n",
        "float64\n"
       ]
      }
     ],
     "prompt_number": 42
    },
    {
     "cell_type": "markdown",
     "metadata": {},
     "source": [
      "One minor tweak we can make is to ensure that we read our GDAL image into a NumPy array of a matching datatype. GDAL has a function which can make this `GDAL` <-> `NumPy` translation for us:"
     ]
    },
    {
     "cell_type": "code",
     "collapsed": false,
     "input": [
      "dataset.GetRasterBand(1).DataType"
     ],
     "language": "python",
     "metadata": {},
     "outputs": [
      {
       "metadata": {},
       "output_type": "pyout",
       "prompt_number": 40,
       "text": [
        "3"
       ]
      }
     ],
     "prompt_number": 40
    },
    {
     "cell_type": "code",
     "collapsed": false,
     "input": [
      "from osgeo import gdal_array\n",
      "\n",
      "# DataType is a property of the individual raster bands\n",
      "image_datatype = dataset.GetRasterBand(1).DataType\n",
      "\n",
      "# Allocate our array, but in a more efficient way\n",
      "image_correct = np.zeros((dataset.RasterYSize, dataset.RasterXSize, dataset.RasterCount),\n",
      "                 dtype=gdal_array.GDALTypeCodeToNumericTypeCode(image_datatype))\n",
      "\n",
      "# Loop over all bands in dataset\n",
      "for b in xrange(dataset.RasterCount):\n",
      "    # Remember, GDAL index is on 1, but Python is on 0 -- so we add 1 for our GDAL calls\n",
      "    band = dataset.GetRasterBand(b + 1)\n",
      "    \n",
      "    # Read in the band's data into the third dimension of our array\n",
      "    image_correct[:, :, b] = band.ReadAsArray()\n",
      "\n",
      "print(\"Compare datatypes: \")\n",
      "print(\"    when unspecified: {dt}\".format(dt=image.dtype))\n",
      "print(\"    when specified: {dt}\".format(dt=image_correct.dtype))"
     ],
     "language": "python",
     "metadata": {},
     "outputs": [
      {
       "output_type": "stream",
       "stream": "stdout",
       "text": [
        "Compare datatypes: \n",
        "    when unspecified: float64\n",
        "    when specified: int16\n"
       ]
      }
     ],
     "prompt_number": 43
    },
    {
     "cell_type": "markdown",
     "metadata": {},
     "source": [
      "Much more efficiently done this way -- we're saving 4x the memory!\n",
      "\n",
      "As you proceed into the next chapter, the last key concept to understand is how to de-allocate memory within Python.\n",
      "\n",
      "In order to close out your GDAL datasets and to signal that your NumPy arrays can be de-allocated, you can set them to `None`:"
     ]
    },
    {
     "cell_type": "code",
     "collapsed": false,
     "input": [
      "dataset = None\n",
      "\n",
      "image = None\n",
      "image_correct = None"
     ],
     "language": "python",
     "metadata": {},
     "outputs": [],
     "prompt_number": 47
    }
   ],
   "metadata": {}
  }
 ]
}