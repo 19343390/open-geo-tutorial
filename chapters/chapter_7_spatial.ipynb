{
 "metadata": {
  "name": "",
  "signature": "sha256:8f0a64bb9b027e5afcd32060d698d9149aca2d5407ccc6d31cb6381fe55e0192"
 },
 "nbformat": 3,
 "nbformat_minor": 0,
 "worksheets": [
  {
   "cells": [
    {
     "cell_type": "markdown",
     "metadata": {},
     "source": [
      "Chris Holden (ceholden@gmail.com) - https://github.com/ceholden\n",
      "\n",
      "Chapter 7: The spatial dimension - filters and segmentation\n",
      "==========================================================="
     ]
    }
   ],
   "metadata": {}
  }
 ]
}