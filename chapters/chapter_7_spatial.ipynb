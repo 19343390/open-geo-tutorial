{
 "metadata": {
  "name": "",
  "signature": "sha256:0fc01a4c3589007f6a5c60f2d9d0017e315bb7aa96d624571cb3629daaa103c6"
 },
 "nbformat": 3,
 "nbformat_minor": 0,
 "worksheets": [
  {
   "cells": [
    {
     "cell_type": "markdown",
     "metadata": {},
     "source": [
      "Chris Holden (ceholden@gmail.com) - https://github.com/ceholden\n",
      "\n",
      "Chapter 7: The spatial dimension - filters and segmentation\n",
      "==========================================================="
     ]
    },
    {
     "cell_type": "markdown",
     "metadata": {},
     "source": [
      "## TODO - write this chapter!"
     ]
    }
   ],
   "metadata": {}
  }
 ]
}