{
 "metadata": {
  "name": "",
  "signature": "sha256:659ffbc327951c82a0e26a2c3eba4f9c70cbf4a945b52b4f9193643e2dc8c5eb"
 },
 "nbformat": 3,
 "nbformat_minor": 0,
 "worksheets": [
  {
   "cells": [
    {
     "cell_type": "markdown",
     "metadata": {},
     "source": [
      "Chapter 7: The spatial dimension - filters and segmentation\n",
      "==========================================================="
     ]
    }
   ],
   "metadata": {}
  }
 ]
}