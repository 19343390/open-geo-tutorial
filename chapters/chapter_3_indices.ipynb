{
 "metadata": {
  "name": "",
  "signature": "sha256:5493321292bfac8a2ca73b4e14644105e9047736895d3363ffae6c80f5b6da1c"
 },
 "nbformat": 3,
 "nbformat_minor": 0,
 "worksheets": [
  {
   "cells": [
    {
     "cell_type": "markdown",
     "metadata": {},
     "source": [
      "Chapter 3: Your first remote sensing vegetation index\n",
      "====================================================="
     ]
    },
    {
     "cell_type": "markdown",
     "metadata": {},
     "source": [
      "Now that we can read our data into the computer, let's calculate some vegetation indices.\n",
      "\n",
      "The [Normalized Difference Vegetation Index (NDVI)](http://en.wikipedia.org/wiki/NDVI) is so ubiquitous that it even has a Wikipedia entry. If you're here for learning how to do remote sensing image processing using GDAL and Python, I suspect you don't need any introduction to this section. If you need a refresher, please visit the Wikipedia URL for [NDVI](http://en.wikipedia.org/wiki/NDVI)."
     ]
    },
    {
     "cell_type": "markdown",
     "metadata": {},
     "source": [
      "This chapter will be very straightfoward. We've already seen how we can read our imagery into a NumPy array -- this chapter will simply extend these tools by showing how to do simple calculations on NumPy objects.\n",
      "\n",
      "Let's bring up our previous code for opening our image and reading in the data:"
     ]
    },
    {
     "cell_type": "code",
     "collapsed": false,
     "input": [
      "# Import the Python 3 print function\n",
      "from __future__ import print_function\n",
      "\n",
      "# Import the \"gdal\" and \"gdal_array\" submodules from within the \"osgeo\" module\n",
      "from osgeo import gdal\n",
      "from osgeo import gdal_array\n",
      "\n",
      "# Import the NumPy module\n",
      "import numpy as np\n",
      "\n",
      "# Open a GDAL dataset\n",
      "dataset = gdal.Open('../example/LE70220491999322EDC01_stack.gtif', gdal.GA_ReadOnly)\n",
      "\n",
      "# Allocate our array using the first band's datatype\n",
      "image_datatype = dataset.GetRasterBand(1).DataType\n",
      "\n",
      "image = np.zeros((dataset.RasterYSize, dataset.RasterXSize, dataset.RasterCount),\n",
      "                 dtype=gdal_array.GDALTypeCodeToNumericTypeCode(image_datatype))\n",
      "\n",
      "# Loop over all bands in dataset\n",
      "for b in xrange(dataset.RasterCount):\n",
      "    # Remember, GDAL index is on 1, but Python is on 0 -- so we add 1 for our GDAL calls\n",
      "    band = dataset.GetRasterBand(b + 1)\n",
      "    \n",
      "    # Read in the band's data into the third dimension of our array\n",
      "    image[:, :, b] = band.ReadAsArray()\n",
      "    \n",
      "\n",
      "print('Red band mean: {r}'.format(r=image[:, :, 2].mean()))\n",
      "print('NIR band mean: {nir}'.format(nir=image[:, :, 3].mean()))"
     ],
     "language": "python",
     "metadata": {},
     "outputs": [
      {
       "output_type": "stream",
       "stream": "stdout",
       "text": [
        "Red band mean: 589.379808\n",
        "NIR band mean: 3442.297712\n"
       ]
      }
     ],
     "prompt_number": 18
    },
    {
     "cell_type": "markdown",
     "metadata": {},
     "source": [
      "Even from simple mean statistics over the entire image we can see the contrast between the red and the near-infared (NIR) bands.\n",
      "\n",
      "#### NDVI\n",
      "\n",
      "To calculate NDVI, we can simply use standard arithmetic operators in Python because these operations in NumPy are vectorized. Just like MATLAB, R, and other higher level languages, **NEVER** loop over a NumPy array unless you can avoid it."
     ]
    },
    {
     "cell_type": "code",
     "collapsed": false,
     "input": [
      "b_red = 2\n",
      "b_nir = 3\n",
      "\n",
      "ndvi = (image[:, :, b_nir] - image[:, :, b_red]) / (image[:, :, b_red] + image[:, :, b_nir])\n",
      "\n",
      "print(ndvi)\n",
      "print(ndvi.max())"
     ],
     "language": "python",
     "metadata": {},
     "outputs": [
      {
       "output_type": "stream",
       "stream": "stdout",
       "text": [
        "[[0 0 0 ..., 0 0 0]\n",
        " [0 0 0 ..., 0 0 0]\n",
        " [0 0 0 ..., 0 0 0]\n",
        " ..., \n",
        " [0 0 0 ..., 0 0 0]\n",
        " [0 0 0 ..., 0 0 0]\n",
        " [0 0 0 ..., 0 0 0]]\n",
        "0\n"
       ]
      }
     ],
     "prompt_number": 27
    },
    {
     "cell_type": "markdown",
     "metadata": {},
     "source": [
      "#### Oooops?\n",
      "From looking at the printout of our NDVI result, we can see that all of the values are equal to zero.\n",
      "\n",
      "*NumPy is stupid then, right?*\n",
      "\n",
      "Well, we did tell NumPy that our input arrays were to be of an integer datatype. As mentioned in the [documentation for division in NumPy](http://docs.scipy.org/doc/numpy/reference/generated/numpy.divide.html), an integer array divided by another integer will result in an integer. As far as I'm concerned, this behavior is more respectful of my design decisions because I have very good control of when and where datatypes are converted. Just something to remember.\n",
      "\n",
      "To fix this, let's cast one as a float:"
     ]
    },
    {
     "cell_type": "code",
     "collapsed": false,
     "input": [
      "ndvi = (image[:, :, b_nir] - image[:, :, b_red]) / \\\n",
      "        (image[:, :, b_red] + image[:, :, b_nir]).astype(np.float64)\n",
      "\n",
      "print('NDVI matrix: ')\n",
      "print(ndvi)\n",
      "\n",
      "print('\\nMax NDVI: {m}'.format(m=ndvi.max()))\n",
      "print('Mean NDVI: {m}'.format(m=ndvi.mean()))\n",
      "print('Median NDVI: {m}'.format(m=np.median(ndvi)))\n",
      "print('Min NDVI: {m}'.format(m=ndvi.min()))"
     ],
     "language": "python",
     "metadata": {},
     "outputs": [
      {
       "output_type": "stream",
       "stream": "stdout",
       "text": [
        "NDVI matrix: \n",
        "[[ 0.71390828  0.71079741  0.69352291 ...,  0.79392185  0.81408451\n",
        "   0.79165379]\n",
        " [ 0.68064263  0.6787194   0.6643924  ...,  0.81387182  0.79880597\n",
        "   0.77389811]\n",
        " [ 0.66904762  0.67268446  0.66332892 ...,  0.78495923  0.78278801\n",
        "   0.81253291]\n",
        " ..., \n",
        " [ 0.68301262  0.68593651  0.67145614 ...,  0.81065089  0.78050922\n",
        "   0.76519266]\n",
        " [ 0.67341718  0.6622986   0.65331611 ...,  0.80436681  0.77483099  0.75      ]\n",
        " [ 0.63973799  0.62396514  0.66731813 ...,  0.7094648   0.70005244\n",
        "   0.74574523]]\n",
        "\n",
        "Max NDVI: 0.904601300891\n",
        "Mean NDVI: 0.708813395381\n",
        "Median NDVI: 0.731919521479\n",
        "Min NDVI: 0.0947030497592\n"
       ]
      }
     ],
     "prompt_number": 35
    },
    {
     "cell_type": "markdown",
     "metadata": {},
     "source": [
      "This looks correct.\n",
      "\n",
      "Speaking of *looking correct*, the next chapter will demonstrate how you can visualize your results using actual plots!"
     ]
    }
   ],
   "metadata": {}
  }
 ]
}