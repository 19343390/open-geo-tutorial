{
 "metadata": {
  "name": "",
  "signature": "sha256:5fc3ddbb0e0d5e7eab200e118d55549831346593635ae25d1444bfd3479a68f3"
 },
 "nbformat": 3,
 "nbformat_minor": 0,
 "worksheets": [
  {
   "cells": [
    {
     "cell_type": "markdown",
     "metadata": {},
     "source": [
      "Chapter 3: Your first remote sensing vegetation index\n",
      "====================================================="
     ]
    }
   ],
   "metadata": {}
  }
 ]
}