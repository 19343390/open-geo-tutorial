{
 "metadata": {
  "name": "",
  "signature": "sha256:9399bbb35383a3ea3b5e488131dbcd31845f0ed428bde4ab1766bccb57ae98f9"
 },
 "nbformat": 3,
 "nbformat_minor": 0,
 "worksheets": [
  {
   "cells": [
    {
     "cell_type": "markdown",
     "metadata": {},
     "source": [
      "Chris Holden (ceholden@gmail.com) - https://github.com/ceholden\n",
      "\n",
      "Chapter 1: Data structures, functions, control structures, and classes in Python\n",
      "==================================================================="
     ]
    },
    {
     "cell_type": "markdown",
     "metadata": {},
     "source": [
      "## Introduction\n",
      "It is outside the scope of this tutorial to teach you basic programming concepts - there are far better learning resources on the internet for this purpose. As such, I will be only giving a brief overview of how to what functions, control structures, and classes are, and how to implement them in Python. I will also provide an overview of useful pieces of Python's extensive standard library. This chapter will conclude with an overview of data structures useful for scientific computing, including those from the NumPy package.\n",
      "\n",
      "A companion reference for Python which covers these topics in much higher detail can be found here:\n",
      "\n",
      "http://en.wikibooks.org/wiki/A_Beginner%27s_Python_Tutorial"
     ]
    },
    {
     "cell_type": "markdown",
     "metadata": {},
     "source": [
      "## Programming concept - data structures\n",
      "TODO\n",
      "\n",
      "see http://en.wikibooks.org/wiki/A_Beginner%27s_Python_Tutorial/Tuples,_Lists,_Dictionaries for now"
     ]
    },
    {
     "cell_type": "markdown",
     "metadata": {},
     "source": [
      "## Programming concept - functions\n",
      "\n",
      "A function is a group of code that performs a task. Generally, it is good practice to isolate your functions to a single task such that these small recipes may be re-used and combined together. Utilizing functions will help you to keep your programs smaller and more concise, eliminate multiple instances of the same code, and make your programs easier to debug when they go wrong.\n",
      "\n",
      "#### Function definition syntax\n",
      "A function in Python may be defined using the `def` operator:"
     ]
    },
    {
     "cell_type": "code",
     "collapsed": false,
     "input": [
      "def my_function():\n",
      "    print \"Hello, world\"\n",
      "    \n",
      "my_function()"
     ],
     "language": "python",
     "metadata": {},
     "outputs": [
      {
       "output_type": "stream",
       "stream": "stdout",
       "text": [
        "Hello, world\n"
       ]
      }
     ],
     "prompt_number": 1
    },
    {
     "cell_type": "markdown",
     "metadata": {},
     "source": [
      "#### The `print` function\n",
      "In the function, `my_function`, we utilized a Python built in function named `print`. In Python 2, the `print` function is a little unusual in that it doesn't act like other functions - we don't need to use parentheses to print our text. In Python 3, this inconsistency has been fixed and you may access this change by importing the `print_function` from the `__future__` module:"
     ]
    },
    {
     "cell_type": "code",
     "collapsed": false,
     "input": [
      "from __future__ import print_function\n",
      "\n",
      "def my_function():\n",
      "    print(\"Hello, world\")\n",
      "    \n",
      "my_function()"
     ],
     "language": "python",
     "metadata": {},
     "outputs": [
      {
       "output_type": "stream",
       "stream": "stdout",
       "text": [
        "Hello, world\n"
       ]
      }
     ],
     "prompt_number": 2
    },
    {
     "cell_type": "markdown",
     "metadata": {},
     "source": [
      "#### Input arguments\n",
      "Functions may take input arguments, which provides a way of passing variables as input to the function:"
     ]
    },
    {
     "cell_type": "code",
     "collapsed": false,
     "input": [
      "def my_function_2(text):\n",
      "    print(text)\n",
      "\n",
      "my_function_2(\"This is an example\")\n",
      "my_function_2(\"of passing arguments\")"
     ],
     "language": "python",
     "metadata": {},
     "outputs": [
      {
       "output_type": "stream",
       "stream": "stdout",
       "text": [
        "This is an example\n",
        "of passing arguments\n"
       ]
      }
     ],
     "prompt_number": 3
    },
    {
     "cell_type": "markdown",
     "metadata": {},
     "source": [
      "#### Default arguments\n",
      "One extremely useful component of functions in Python is the ability to define keyword arguments with a default value. Keyword arguments with a default value do not need to be specified, but may be overridden by the user if needed.\n",
      "\n",
      "To specify a default value for a keyword argument, define the default within the function definition:"
     ]
    },
    {
     "cell_type": "code",
     "collapsed": false,
     "input": [
      "def my_function_3(name, greeting='Hello, '):\n",
      "    print(greeting + name)\n",
      "    \n",
      "# Call the function with the default greeting\n",
      "my_function_3('Chris')\n",
      "# Call the function using a custom greeting\n",
      "my_function_3('Chris', greeting='Good morning, ')"
     ],
     "language": "python",
     "metadata": {},
     "outputs": [
      {
       "output_type": "stream",
       "stream": "stdout",
       "text": [
        "Hello, Chris\n",
        "Good morning, Chris\n"
       ]
      }
     ],
     "prompt_number": 4
    },
    {
     "cell_type": "markdown",
     "metadata": {},
     "source": [
      "#### Function returns\n",
      "So far we have only shown simple function examples which print text. While we see output from these function examples, these functions do not actually return anything.\n",
      "\n",
      "To test this, we may try to capture what `my_function_3` returns:"
     ]
    },
    {
     "cell_type": "code",
     "collapsed": false,
     "input": [
      "value = my_function_3('Chris')\n",
      "\n",
      "print('my_function_3 returned: ')\n",
      "print(value)"
     ],
     "language": "python",
     "metadata": {},
     "outputs": [
      {
       "output_type": "stream",
       "stream": "stdout",
       "text": [
        "Hello, Chris\n",
        "my_function_3 returned: \n",
        "None\n"
       ]
      }
     ],
     "prompt_number": 7
    },
    {
     "cell_type": "markdown",
     "metadata": {},
     "source": [
      "As we can see, the value we get by trying to capture a value from `my_function` is `None`. `None` is a Python built-in constant which represents the absence of a value.\n",
      "\n",
      "The examples thus far have been pretty boring - a more interesting example would be to do some calculations:"
     ]
    },
    {
     "cell_type": "code",
     "collapsed": false,
     "input": [
      "def my_function_4(x):\n",
      "    return x, x ** 2, x ** 3\n",
      "\n",
      "xpowers = my_function_4(5)\n",
      "print(xpowers)\n",
      "\n",
      "xpow1, xpow2, xpow3 = my_function_4(5)\n",
      "print(xpow1, xpow2, xpow3)"
     ],
     "language": "python",
     "metadata": {},
     "outputs": [
      {
       "output_type": "stream",
       "stream": "stdout",
       "text": [
        "(5, 25, 125)\n",
        "5 25 125\n"
       ]
      }
     ],
     "prompt_number": 12
    },
    {
     "cell_type": "markdown",
     "metadata": {},
     "source": [
      "This last function returned a `tuple` data type in Python. Tuples are useful for storing immutable data of any type in an listing that will retain its order. In this example we returned our input - `x` - and our input to the power of 2 and 3.\n",
      "\n",
      "The first time we called this function we captured the return of all three numbers in one variable. We can also perform `tuple` unpacking by assigning each of the three `tuple` items to its own variable. "
     ]
    },
    {
     "cell_type": "markdown",
     "metadata": {},
     "source": [
      "## Programming concept - control structures\n",
      "\n",
      "TODO, see http://en.wikibooks.org/wiki/A_Beginner%27s_Python_Tutorial/Loops,_Conditionals for now"
     ]
    },
    {
     "cell_type": "markdown",
     "metadata": {},
     "source": [
      "## Programming concept - classes\n",
      "\n",
      "This section describes what a `class` is in Python and how to define them. I don't end up writing many classes in the remote sensing work I do, but my work almost always use classes defined in third party libraries like GDAL or NumPy. Thus this discussion will be important mostly to help you understand why and how to use classes, not how to create them.\n",
      "\n",
      "Let's say you want to represent a series of 3 Landsat images in Python. Each Landsat image has an image ID (e.g., LE70120312000023EDC00), and a size described by the number of rows and columns.\n",
      "\n",
      "One way to represent these images would be to store each of these properties of a Landsat image in a `list`:"
     ]
    },
    {
     "cell_type": "code",
     "collapsed": false,
     "input": [
      "# Landsat IDs\n",
      "image_ids = ['LE70120312000023EDC00',\n",
      "             'LT50120312000039XXX03',\n",
      "             'LE70120312000063EDC00']\n",
      "# Number of rows\n",
      "n_rows = [7530,\n",
      "          7510,\n",
      "          7509]\n",
      "# Number of columns\n",
      "n_cols = [8000,\n",
      "          7990,\n",
      "          8010]"
     ],
     "language": "python",
     "metadata": {},
     "outputs": [],
     "prompt_number": 13
    },
    {
     "cell_type": "markdown",
     "metadata": {},
     "source": [
      "This is fine, but it is difficult to associate each of these variables. Let's say we wanted to print out the number of pixels in each image. We would have to write:"
     ]
    },
    {
     "cell_type": "code",
     "collapsed": false,
     "input": [
      "# BAD way of doing this in Python \n",
      "#     don't use indices if you can avoid it!\n",
      "for i in range(3):\n",
      "    print(\"Image \" + image_ids[i] + \": \" + \n",
      "          str(n_rows[i] * n_cols[i]) + \" pixels\")\n",
      "    \n",
      "# Good, \"Pythonic\" way - use `zip` to tie these three lists together\n",
      "for image_id, n_row, n_col in zip(image_ids, n_rows, n_cols):\n",
      "    print(\"Image \" + image_id + \": \" + \n",
      "          str(n_row * n_col) + \" pixels\")"
     ],
     "language": "python",
     "metadata": {},
     "outputs": [
      {
       "output_type": "stream",
       "stream": "stdout",
       "text": [
        "Image LE70120312000023EDC00: 60240000 pixels\n",
        "Image LT50120312000039XXX03: 60004900 pixels\n",
        "Image LE70120312000063EDC00: 60147090 pixels\n",
        "Image LE70120312000023EDC00: 60240000 pixels\n",
        "Image LT50120312000039XXX03: 60004900 pixels\n",
        "Image LE70120312000063EDC00: 60147090 pixels\n"
       ]
      }
     ],
     "prompt_number": 18
    },
    {
     "cell_type": "markdown",
     "metadata": {},
     "source": [
      "Again, this works, but it is a bit awkward and unwieldy.\n",
      "\n",
      "What we really have here is a concept of a distict object - a Landsat image. We can use the concept of a `class` to encapsulate this thought:"
     ]
    },
    {
     "cell_type": "code",
     "collapsed": false,
     "input": [
      "# Create the class definition\n",
      "class LandsatImage(object):\n",
      "    \"\"\" A Landsat image \"\"\"\n",
      "    \n",
      "    def __init__(self, image_id, n_row, n_col):\n",
      "        self.image_id = image_id\n",
      "        self.n_row = n_row\n",
      "        self.n_col = n_col\n",
      "        \n",
      "# Instantiate a LandsatImage object\n",
      "landsat_image = LandsatImage('LE70120312000063EDC00',\n",
      "                             7530,\n",
      "                             8000)\n",
      "\n",
      "# Access this LandsatImage's values\n",
      "print(\"Image \" + landsat_image.image_id + \" has \" +\n",
      "      str(landsat_image.n_row * landsat_image.n_col) + \n",
      "      \" pixels\")"
     ],
     "language": "python",
     "metadata": {},
     "outputs": [
      {
       "output_type": "stream",
       "stream": "stdout",
       "text": [
        "Image LE70120312000063EDC00 has 60240000 pixels\n"
       ]
      }
     ],
     "prompt_number": 28
    },
    {
     "cell_type": "markdown",
     "metadata": {},
     "source": [
      "Once we have instantiated a variable that stores our object, we can access the \"properties\" of the class by referencing the data within the class by their attribute names.\n",
      "\n",
      "Just a bit of semantics - when using a class, the variables stored within the class are called \"attributes\".\n",
      "\n",
      "So far we've only used the class as a way of encapsulating pieces of related data. The more important use of classes is to not only store related data, but to define functions that operate on these class attributes. When we have functions defined within a class, these functions are referred to as class \"methods\".\n",
      "\n",
      "With this in mind, we can define some methods of the `LandsatImage` class:"
     ]
    },
    {
     "cell_type": "code",
     "collapsed": false,
     "input": [
      "# Create the class definition\n",
      "class LandsatImage(object):\n",
      "    \"\"\" A Landsat image \"\"\"\n",
      "    \n",
      "    def __init__(self, image_id, n_row, n_col):\n",
      "        self.image_id = image_id\n",
      "        self.n_row = n_row\n",
      "        self.n_col = n_col\n",
      "        \n",
      "    def n_pixels(self):\n",
      "        return self.n_row * self.n_col\n",
      "    \n",
      "    def __repr__(self):\n",
      "        return \"A Landsat Image - {_id} - with {n} pixels\".format(\n",
      "            _id=self.image_id,\n",
      "            n=self.n_pixels())\n",
      "    \n",
      "# Instantiate a LandsatImage object\n",
      "landsat_image_new = LandsatImage('LE70120312000063EDC00',\n",
      "                             7530,\n",
      "                             8000)\n",
      "\n",
      "# Print our new class's string representation\n",
      "print(landsat_image_new)\n",
      "# Print how many pixels we have\n",
      "print(landsat_image_new.n_pixels())"
     ],
     "language": "python",
     "metadata": {},
     "outputs": [
      {
       "output_type": "stream",
       "stream": "stdout",
       "text": [
        "A Landsat Image - LE70120312000063EDC00 - with 60240000 pixels\n",
        "60240000\n"
       ]
      }
     ],
     "prompt_number": 27
    },
    {
     "cell_type": "markdown",
     "metadata": {},
     "source": [
      "We have just added two new class methods - `n_pixels` and `__repr__`. The `n_pixels` image simply returns the number of rows multiplied by the number of columns. The `__repr__` method is a special method in Python that describes the string representation of your class. We have defined the string representation to describe the image ID and the number of pixels."
     ]
    },
    {
     "cell_type": "markdown",
     "metadata": {},
     "source": [
      "In the next chapter we will explore the `class` defined by GDAL which encapsulates the idea of a raster image dataset - the `GDALDataset`. \n",
      "\n",
      "If we think of a raster image dataset, we might think of some class attributes, like the number of bands, rows, and columns in the image. GDAL also stores information on image projection, geolocation, metadata, and more. A class representing a raster image dataset may also contain as class attributes references to other classes. In fact, the `GDALDataset` contains references to instances of other classes representing individual raster bands."
     ]
    }
   ],
   "metadata": {}
  }
 ]
}