{
 "metadata": {
  "name": "",
  "signature": "sha256:43692f2e85a7a85601613e198a9b71ba16b353ae3dd2602204fe4cee08267641"
 },
 "nbformat": 3,
 "nbformat_minor": 0,
 "worksheets": [
  {
   "cells": [
    {
     "cell_type": "markdown",
     "metadata": {},
     "source": [
      "Chapter 1: Functions, control structures, classes, standard library, and data structures in Python\n",
      "==================================================================="
     ]
    },
    {
     "cell_type": "markdown",
     "metadata": {},
     "source": [
      "## Overview\n",
      "It is outside the scope of this tutorial to teach you basic programming concepts - there are far better learning resources on the internet for this purpose. As such, I will be only giving a brief overview of how to what functions, control structures, and classes are, and how to implement them in Python. I will also provide an overview of useful pieces of Python's extensive standard library. This chapter will conclude with an overview of data structures useful for scientific computing, including those from the NumPy package.\n",
      "\n",
      "A companion reference for Python which covers these topics in much higher detail can be found here:\n",
      "\n",
      "http://en.wikibooks.org/wiki/A_Beginner%27s_Python_Tutorial"
     ]
    },
    {
     "cell_type": "markdown",
     "metadata": {},
     "source": [
      "## Programming concept - functions\n",
      "\n",
      "A function is a group of code that performs a task. Generally, it is good practice to isolate your functions to a single task such that these small recipes may be re-used and combined together. Utilizing functions will help you to keep your programs smaller and more concise, eliminate multiple instances of the same code, and make your programs easier to debug when they go wrong.\n",
      "\n",
      "#### Function definition syntax\n",
      "A function in Python may be defined using the `def` operator:"
     ]
    },
    {
     "cell_type": "code",
     "collapsed": false,
     "input": [
      "def my_function():\n",
      "    print \"Hello, world\"\n",
      "    \n",
      "my_function()"
     ],
     "language": "python",
     "metadata": {},
     "outputs": [
      {
       "output_type": "stream",
       "stream": "stdout",
       "text": [
        "Hello, world\n"
       ]
      }
     ],
     "prompt_number": 1
    },
    {
     "cell_type": "markdown",
     "metadata": {},
     "source": [
      "#### The `print` function\n",
      "In the function, `my_function`, we utilized a Python built in function named `print`. In Python 2, the `print` function is a little unusual in that it doesn't act like other functions - we don't need to use parentheses to print our text. In Python 3, this inconsistency has been fixed and you may access this change by importing the `print_function` from the `__future__` module:"
     ]
    },
    {
     "cell_type": "code",
     "collapsed": false,
     "input": [
      "from __future__ import print_function\n",
      "\n",
      "def my_function():\n",
      "    print(\"Hello, world\")\n",
      "    \n",
      "my_function()"
     ],
     "language": "python",
     "metadata": {},
     "outputs": [
      {
       "output_type": "stream",
       "stream": "stdout",
       "text": [
        "Hello, world\n"
       ]
      }
     ],
     "prompt_number": 2
    },
    {
     "cell_type": "markdown",
     "metadata": {},
     "source": [
      "#### Input arguments\n",
      "Functions may take input arguments, which provides a way of passing variables as input to the function:"
     ]
    },
    {
     "cell_type": "code",
     "collapsed": false,
     "input": [
      "def my_function_2(text):\n",
      "    print(text)\n",
      "\n",
      "my_function_2(\"This is an example\")\n",
      "my_function_2(\"of passing arguments\")"
     ],
     "language": "python",
     "metadata": {},
     "outputs": [
      {
       "output_type": "stream",
       "stream": "stdout",
       "text": [
        "This is an example\n",
        "of passing arguments\n"
       ]
      }
     ],
     "prompt_number": 3
    },
    {
     "cell_type": "markdown",
     "metadata": {},
     "source": [
      "#### Default arguments\n",
      "One extremely useful component of functions in Python is the ability to define keyword arguments with a default value. Keyword arguments with a default value do not need to be specified, but may be overridden by the user if needed.\n",
      "\n",
      "To specify a default value for a keyword argument, define the default within the function definition:"
     ]
    },
    {
     "cell_type": "code",
     "collapsed": false,
     "input": [
      "def my_function_3(name, greeting='Hello, '):\n",
      "    print(greeting + name)\n",
      "    \n",
      "# Call the function with the default greeting\n",
      "my_function_3('Chris')\n",
      "# Call the function using a custom greeting\n",
      "my_function_3('Chris', greeting='Good morning, ')"
     ],
     "language": "python",
     "metadata": {},
     "outputs": [
      {
       "output_type": "stream",
       "stream": "stdout",
       "text": [
        "Hello, Chris\n",
        "Good morning, Chris\n"
       ]
      }
     ],
     "prompt_number": 4
    },
    {
     "cell_type": "markdown",
     "metadata": {},
     "source": [
      "#### Function returns\n",
      "So far we have only shown simple function examples which print text. While we see output from these function examples, these functions do not actually return anything.\n",
      "\n",
      "To test this, we may try to capture what `my_function_3` returns:"
     ]
    },
    {
     "cell_type": "code",
     "collapsed": false,
     "input": [
      "value = my_function_3('Chris')\n",
      "\n",
      "print('my_function_3 returned: ')\n",
      "print(value)"
     ],
     "language": "python",
     "metadata": {},
     "outputs": [
      {
       "output_type": "stream",
       "stream": "stdout",
       "text": [
        "Hello, Chris\n",
        "my_function_3 returned: \n",
        "None\n"
       ]
      }
     ],
     "prompt_number": 7
    },
    {
     "cell_type": "markdown",
     "metadata": {},
     "source": [
      "As we can see, the value we get by trying to capture a value from `my_function` is `None`. `None` is a Python built-in constant which represents the absence of a value."
     ]
    }
   ],
   "metadata": {}
  }
 ]
}