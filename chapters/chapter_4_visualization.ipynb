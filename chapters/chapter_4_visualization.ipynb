{
 "metadata": {
  "name": "",
  "signature": "sha256:aefe634643e755c3da9bb290b1fe43a21050e29e4db94defe122181bc3108be3"
 },
 "nbformat": 3,
 "nbformat_minor": 0,
 "worksheets": [
  {
   "cells": [
    {
     "cell_type": "markdown",
     "metadata": {},
     "source": [
      "Chapter 4: Plotting and visualizing your data with `matplotlib`\n",
      "==============================================================="
     ]
    }
   ],
   "metadata": {}
  }
 ]
}