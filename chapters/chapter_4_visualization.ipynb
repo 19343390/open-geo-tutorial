{
 "metadata": {
  "name": "",
  "signature": "sha256:27a8786b8b94ec57f836c5c910bfa25840ae64d9c6fba64df235494abc963fa7"
 },
 "nbformat": 3,
 "nbformat_minor": 0,
 "worksheets": [
  {
   "cells": [
    {
     "cell_type": "markdown",
     "metadata": {},
     "source": [
      "Chris Holden (ceholden@gmail.com) - https://github.com/ceholden\n",
      "\n",
      "Chapter 4: Plotting and visualizing your data with `matplotlib`\n",
      "==============================================================="
     ]
    }
   ],
   "metadata": {}
  }
 ]
}