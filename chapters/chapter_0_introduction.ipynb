{
 "metadata": {
  "name": "",
  "signature": "sha256:942e03059001970f583353cc3d4446216291287a3effc8e2b406281bce3ef0bf"
 },
 "nbformat": 3,
 "nbformat_minor": 0,
 "worksheets": [
  {
   "cells": [
    {
     "cell_type": "markdown",
     "metadata": {},
     "source": [
      "Chris Holden (ceholden@gmail.com) - https://github.com/ceholden\n",
      "\n",
      "Introduction\n",
      "============\n",
      "\n",
      "Tutorial of basic remote sensing and GIS methodologies using open source software (GDAL in Python)"
     ]
    },
    {
     "cell_type": "markdown",
     "metadata": {},
     "source": [
      "## Why Python?\n",
      "- Easy to learn\n",
      "    - Python is an interpreted, dynamically typed language with little boilerplate code required to begin doing useful things\n",
      "    - Test out your code in Python's interpreter (read-evaluate-print loop) before you put your code into a script\n",
      "    - Very readible and closer to human thoughts than C/Java/R/MATLAB\n",
      "    \n",
      "- Python is an actual programming language with a large standard library\n",
      "    - tools for file manipulation, command line argument parsing, and web access and parsing already exist and are robust\n",
      "    - Python already widely used in other scientific communities and outside of science for web servers, desktop applications, and server management\n",
      "    \n",
      "- Scientific Python provides very well documented and easy to use interfaces to pre-existing numeric methods\n",
      "    - Linear alebgra, classification routines, regression methods, and more have been published for decades as Fortran or C codes\n",
      "    - Libraries such as SciPy, NumPy, and SciKits wrap and extend these pre-existing codes in an easy to use package\n",
      "    - Python provides numerous tools to introspect objects and Python code conventions make access of documentation easy (e.g., type `?np.random.randint` to access the documentation string (docstring) of NumPy random number generator\n",
      "    \n",
      "- Large community with innumerable examples on blogs, StackOverflow, Github, etc.\n",
      "\n",
      "- Develop Python plugins for QGIS\n",
      "\n",
      "- Script analyses in QGIS or ArcMap\n",
      "\n",
      "- Many GDAL tools written in Python\n",
      "    - useful for example code and a strong recommendation\n",
      "\n",
      "- Free"
     ]
    },
    {
     "cell_type": "markdown",
     "metadata": {},
     "source": [
      "## Chapters\n",
      "1. Data structures, functions, control structures, and classes in Python\n",
      "2. Exploring the GDALDataset class\n",
      "3. Your first remote sensing vegetation index\n",
      "4. Plotting and visualizing your data with `matplotlib`\n",
      "5. Importing and using vector data -- the OGR library\n",
      "6. Classification of land cover\n",
      "7. The spatial dimension - filters and segmentation"
     ]
    },
    {
     "cell_type": "markdown",
     "metadata": {},
     "source": [
      "## Other resources\n",
      "There are many resources for doing remote sensing and GIS with Python on the web, but here are some of the better ones:\n",
      "- [Chris Garrard's course material from Utah State University](http://www.gis.usu.edu/~chrisg/python/2009/)\n",
      "- [Python GDAL/OGR cookbook](http://pcjericks.github.io/py-gdalogr-cookbook/)\n",
      "- [GDAL API tutorial](http://www.gdal.org/gdal_tutorial.html)\n",
      "- [Python API for GDAL](http://gdal.org/python/)"
     ]
    },
    {
     "cell_type": "markdown",
     "metadata": {},
     "source": [
      "#### Note on Python 2 vs Python 3\n",
      "In this tutorial series we will be assuming you are using Python 2.7, not Python 3. To ensure you are running a compatible version of Python, you can print the version by typing:\n",
      "\n",
      "    python --version\n",
      "    \n",
      "at the command line.\n",
      "\n",
      "If you don't know what why it would be important, continue below to the chapter titles. \n",
      "\n",
      "You may be able to port most of the tutorial to Python 3, but we will stick to Python 2 because QGIS is still using Python 2.7 for scripting and plugin development. I will make an effort to make things compatible by importing functionality from the `__future__` module."
     ]
    }
   ],
   "metadata": {}
  }
 ]
}