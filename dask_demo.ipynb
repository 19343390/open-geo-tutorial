{
  "nbformat": 4,
  "nbformat_minor": 0,
  "metadata": {
    "colab": {
      "name": "Untitled5.ipynb",
      "provenance": [],
      "include_colab_link": true
    },
    "kernelspec": {
      "name": "python3",
      "display_name": "Python 3"
    }
  },
  "cells": [
    {
      "cell_type": "markdown",
      "metadata": {
        "id": "view-in-github",
        "colab_type": "text"
      },
      "source": [
        "<a href=\"https://colab.research.google.com/github/patrickcgray/open-geo-tutorial/blob/master/dask_demo.ipynb\" target=\"_parent\"><img src=\"https://colab.research.google.com/assets/colab-badge.svg\" alt=\"Open In Colab\"/></a>"
      ]
    },
    {
      "cell_type": "code",
      "metadata": {
        "id": "XY0A32Id_0v1",
        "colab_type": "code",
        "colab": {}
      },
      "source": [
        "! ! pip install \"dask[complete]\" dask-ml "
      ],
      "execution_count": 0,
      "outputs": []
    },
    {
      "cell_type": "code",
      "metadata": {
        "id": "E4o3ROe_8SR6",
        "colab_type": "code",
        "colab": {}
      },
      "source": [
        "from sklearn.datasets import make_circles\n",
        "from sklearn.utils import shuffle\n",
        "import pandas as pd\n",
        "\n",
        "from timeit import default_timer as tic\n",
        "import sklearn.cluster\n",
        "import dask_ml.cluster\n",
        "import seaborn as sns\n",
        "\n",
        "Ns = [2500, 5000, 7500, 10000]\n",
        "X, y = make_circles(n_samples=10_000, noise=0.05, random_state=0, factor=0.5)\n",
        "X, y = shuffle(X, y)\n",
        "\n",
        "timings = []\n",
        "for n in Ns:\n",
        "    X, y = make_circles(n_samples=n, random_state=n, noise=0.5, factor=0.5)\n",
        "    t1 = tic()\n",
        "    sklearn.cluster.SpectralClustering(n_clusters=2).fit(X)\n",
        "    timings.append(('Scikit-Learn (exact)', n, tic() - t1))\n",
        "    t1 = tic()\n",
        "    dask_ml.cluster.SpectralClustering(n_clusters=2, n_components=100).fit(X)\n",
        "    timings.append(('dask-ml (approximate)', n, tic() - t1))\n",
        "\n",
        "\n",
        "df = pd.DataFrame(timings, columns=['method', 'Number of Samples', 'Fit Time'])\n",
        "sns.factorplot(x='Number of Samples', y='Fit Time', hue='method',\n",
        "               data=df, aspect=1.5)"
      ],
      "execution_count": 0,
      "outputs": []
    },
    {
      "cell_type": "code",
      "metadata": {
        "id": "Pse_xABD8TPe",
        "colab_type": "code",
        "colab": {}
      },
      "source": [
        ""
      ],
      "execution_count": 0,
      "outputs": []
    }
  ]
}