{
  "nbformat": 4,
  "nbformat_minor": 0,
  "metadata": {
    "colab": {
      "name": "Untitled5.ipynb",
      "provenance": [],
      "machine_shape": "hm",
      "include_colab_link": true
    },
    "kernelspec": {
      "name": "python3",
      "display_name": "Python 3"
    }
  },
  "cells": [
    {
      "cell_type": "markdown",
      "metadata": {
        "id": "view-in-github",
        "colab_type": "text"
      },
      "source": [
        "<a href=\"https://colab.research.google.com/github/patrickcgray/open-geo-tutorial/blob/master/dask_demo.ipynb\" target=\"_parent\"><img src=\"https://colab.research.google.com/assets/colab-badge.svg\" alt=\"Open In Colab\"/></a>"
      ]
    },
    {
      "cell_type": "code",
      "metadata": {
        "id": "XY0A32Id_0v1",
        "colab_type": "code",
        "colab": {
          "base_uri": "https://localhost:8080/",
          "height": 748
        },
        "outputId": "fd789361-e1f6-4de8-b36e-9b4135b5b257"
      },
      "source": [
        "! ! pip install \"dask[complete]\" dask-ml "
      ],
      "execution_count": 1,
      "outputs": [
        {
          "output_type": "stream",
          "text": [
            "Requirement already satisfied: dask[complete] in /usr/local/lib/python3.6/dist-packages (1.1.5)\n",
            "Collecting dask-ml\n",
            "\u001b[?25l  Downloading https://files.pythonhosted.org/packages/d1/7e/3205c4e19d92c484921404605b5694221254ae78c5edd6e660b2d4714c55/dask_ml-1.1.1-py3-none-any.whl (123kB)\n",
            "\u001b[K     |████████████████████████████████| 133kB 2.6MB/s \n",
            "\u001b[?25hRequirement already satisfied: distributed>=1.22; extra == \"complete\" in /usr/local/lib/python3.6/dist-packages (from dask[complete]) (1.25.3)\n",
            "Requirement already satisfied: numpy>=1.11.0; extra == \"complete\" in /usr/local/lib/python3.6/dist-packages (from dask[complete]) (1.17.3)\n",
            "Collecting partd>=0.3.8; extra == \"complete\"\n",
            "  Downloading https://files.pythonhosted.org/packages/8b/17/09c352519da1db31634979c3aa9126078e9ece0f561c5f641e0649b78905/partd-1.0.0-py2.py3-none-any.whl\n",
            "Requirement already satisfied: cloudpickle>=0.2.1; extra == \"complete\" in /usr/local/lib/python3.6/dist-packages (from dask[complete]) (1.2.2)\n",
            "Requirement already satisfied: toolz>=0.7.3; extra == \"complete\" in /usr/local/lib/python3.6/dist-packages (from dask[complete]) (0.10.0)\n",
            "Requirement already satisfied: pandas>=0.19.0; extra == \"complete\" in /usr/local/lib/python3.6/dist-packages (from dask[complete]) (0.25.2)\n",
            "Collecting dask-glm>=0.2.0\n",
            "  Downloading https://files.pythonhosted.org/packages/cb/ee/36c6e0e7b51e08406e5c3bb036f35adb77bd0a89335437b2e6f03c948f1a/dask_glm-0.2.0-py2.py3-none-any.whl\n",
            "Requirement already satisfied: scipy in /usr/local/lib/python3.6/dist-packages (from dask-ml) (1.3.1)\n",
            "Requirement already satisfied: packaging in /usr/local/lib/python3.6/dist-packages (from dask-ml) (19.2)\n",
            "Requirement already satisfied: numba in /usr/local/lib/python3.6/dist-packages (from dask-ml) (0.40.1)\n",
            "Requirement already satisfied: scikit-learn>=0.20 in /usr/local/lib/python3.6/dist-packages (from dask-ml) (0.21.3)\n",
            "Collecting multipledispatch>=0.4.9\n",
            "  Downloading https://files.pythonhosted.org/packages/89/79/429ecef45fd5e4504f7474d4c3c3c4668c267be3370e4c2fd33e61506833/multipledispatch-0.6.0-py3-none-any.whl\n",
            "Requirement already satisfied: tornado>=4.5.1 in /usr/local/lib/python3.6/dist-packages (from distributed>=1.22; extra == \"complete\"->dask[complete]) (4.5.3)\n",
            "Requirement already satisfied: sortedcontainers!=2.0.0,!=2.0.1 in /usr/local/lib/python3.6/dist-packages (from distributed>=1.22; extra == \"complete\"->dask[complete]) (2.1.0)\n",
            "Requirement already satisfied: psutil>=5.0 in /usr/local/lib/python3.6/dist-packages (from distributed>=1.22; extra == \"complete\"->dask[complete]) (5.4.8)\n",
            "Requirement already satisfied: pyyaml in /usr/local/lib/python3.6/dist-packages (from distributed>=1.22; extra == \"complete\"->dask[complete]) (3.13)\n",
            "Requirement already satisfied: click>=6.6 in /usr/local/lib/python3.6/dist-packages (from distributed>=1.22; extra == \"complete\"->dask[complete]) (7.0)\n",
            "Requirement already satisfied: zict>=0.1.3 in /usr/local/lib/python3.6/dist-packages (from distributed>=1.22; extra == \"complete\"->dask[complete]) (1.0.0)\n",
            "Requirement already satisfied: tblib in /usr/local/lib/python3.6/dist-packages (from distributed>=1.22; extra == \"complete\"->dask[complete]) (1.5.0)\n",
            "Requirement already satisfied: six in /usr/local/lib/python3.6/dist-packages (from distributed>=1.22; extra == \"complete\"->dask[complete]) (1.12.0)\n",
            "Requirement already satisfied: msgpack in /usr/local/lib/python3.6/dist-packages (from distributed>=1.22; extra == \"complete\"->dask[complete]) (0.5.6)\n",
            "Collecting locket\n",
            "  Downloading https://files.pythonhosted.org/packages/d0/22/3c0f97614e0be8386542facb3a7dcfc2584f7b83608c02333bced641281c/locket-0.2.0.tar.gz\n",
            "Requirement already satisfied: python-dateutil>=2.6.1 in /usr/local/lib/python3.6/dist-packages (from pandas>=0.19.0; extra == \"complete\"->dask[complete]) (2.6.1)\n",
            "Requirement already satisfied: pytz>=2017.2 in /usr/local/lib/python3.6/dist-packages (from pandas>=0.19.0; extra == \"complete\"->dask[complete]) (2018.9)\n",
            "Requirement already satisfied: pyparsing>=2.0.2 in /usr/local/lib/python3.6/dist-packages (from packaging->dask-ml) (2.4.2)\n",
            "Requirement already satisfied: llvmlite>=0.25.0dev0 in /usr/local/lib/python3.6/dist-packages (from numba->dask-ml) (0.30.0)\n",
            "Requirement already satisfied: joblib>=0.11 in /usr/local/lib/python3.6/dist-packages (from scikit-learn>=0.20->dask-ml) (0.14.0)\n",
            "Requirement already satisfied: heapdict in /usr/local/lib/python3.6/dist-packages (from zict>=0.1.3->distributed>=1.22; extra == \"complete\"->dask[complete]) (1.0.1)\n",
            "Building wheels for collected packages: locket\n",
            "  Building wheel for locket (setup.py) ... \u001b[?25l\u001b[?25hdone\n",
            "  Created wheel for locket: filename=locket-0.2.0-cp36-none-any.whl size=4039 sha256=e1693cac861fe92fa8ed9b61936bab8ffa625953cbceb6e32f87c91fd02965e1\n",
            "  Stored in directory: /root/.cache/pip/wheels/26/1e/e8/4fa236ec931b1a0cdd61578e20d4934d7bf188858723b84698\n",
            "Successfully built locket\n",
            "Installing collected packages: multipledispatch, dask-glm, dask-ml, locket, partd\n",
            "Successfully installed dask-glm-0.2.0 dask-ml-1.1.1 locket-0.2.0 multipledispatch-0.6.0 partd-1.0.0\n"
          ],
          "name": "stdout"
        }
      ]
    },
    {
      "cell_type": "code",
      "metadata": {
        "id": "E4o3ROe_8SR6",
        "colab_type": "code",
        "colab": {
          "base_uri": "https://localhost:8080/",
          "height": 386
        },
        "outputId": "7dbe4973-63c9-4e77-d1a4-2db4e4892da8"
      },
      "source": [
        "from sklearn.datasets import make_circles\n",
        "from sklearn.utils import shuffle\n",
        "import pandas as pd\n",
        "\n",
        "from timeit import default_timer as tic\n",
        "import sklearn.cluster\n",
        "import dask_ml.cluster\n",
        "import seaborn as sns\n",
        "\n",
        "Ns = [2500, 5000, 7500, 10000, 12500, 15000]\n",
        "X, y = make_circles(n_samples=10_000, noise=0.05, random_state=0, factor=0.5)\n",
        "X, y = shuffle(X, y)\n",
        "\n",
        "timings = []\n",
        "for n in Ns:\n",
        "    X, y = make_circles(n_samples=n, random_state=n, noise=0.5, factor=0.5)\n",
        "    t1 = tic()\n",
        "    sklearn.cluster.SpectralClustering(n_clusters=2).fit(X)\n",
        "    timings.append(('Scikit-Learn (exact)', n, tic() - t1))\n",
        "    t1 = tic()\n",
        "    dask_ml.cluster.SpectralClustering(n_clusters=2, n_components=100).fit(X)\n",
        "    timings.append(('dask-ml (approximate)', n, tic() - t1))\n",
        "\n",
        "\n",
        "df = pd.DataFrame(timings, columns=['method', 'Number of Samples', 'Fit Time'])\n",
        "sns.catplot(x='Number of Samples', y='Fit Time', hue='method',\n",
        "               data=df, aspect=1.5)"
      ],
      "execution_count": 2,
      "outputs": [
        {
          "output_type": "execute_result",
          "data": {
            "text/plain": [
              "<seaborn.axisgrid.FacetGrid at 0x7f1f7c17df28>"
            ]
          },
          "metadata": {
            "tags": []
          },
          "execution_count": 2
        },
        {
          "output_type": "display_data",
          "data": {
            "image/png": "[encoded data removed]",
            "text/plain": [
              "<Figure size 689.75x360 with 1 Axes>"
            ]
          },
          "metadata": {
            "tags": []
          }
        }
      ]
    },
    {
      "cell_type": "code",
      "metadata": {
        "id": "Pse_xABD8TPe",
        "colab_type": "code",
        "colab": {}
      },
      "source": [
        ""
      ],
      "execution_count": 0,
      "outputs": []
    }
  ]
}